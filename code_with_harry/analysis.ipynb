{
 "cells": [
  {
   "cell_type": "markdown",
   "id": "02b5dbc0",
   "metadata": {},
   "source": [
    "## Load the data"
   ]
  },
  {
   "cell_type": "code",
   "execution_count": 2,
   "id": "09eb6333",
   "metadata": {},
   "outputs": [
    {
     "name": "stdout",
     "output_type": "stream",
     "text": [
      "Users and Their Connections:\n",
      "\n",
      "Amit (ID: 1) - Friends: [2, 3] - Liked Pages: [101]\n",
      "Priya (ID: 2) - Friends: [1, 4] - Liked Pages: [102]\n",
      "Rahul (ID: 3) - Friends: [1] - Liked Pages: [101, 103]\n",
      "Sara (ID: 4) - Friends: [2] - Liked Pages: [104]\n",
      "\n",
      "Pages:\n",
      "\n",
      "101: Python Developers\n",
      "102: Data Science Enthusiasts\n",
      "103: AI & ML Community\n",
      "104: Web Dev Hub\n"
     ]
    }
   ],
   "source": [
    "import json\n",
    "\n",
    "# Load the JSON file\n",
    "def load_data(filename):\n",
    "    with open(filename, \"r\") as file:\n",
    "        data = json.load(file)\n",
    "    return data\n",
    "\n",
    "# Display users and their connections\n",
    "def display_users(data):\n",
    "    print(\"Users and Their Connections:\\n\")\n",
    "    for user in data[\"users\"]:\n",
    "        print(f\"{user['name']} (ID: {user['id']}) - Friends: {user['friends']} - Liked Pages: {user['liked_pages']}\")\n",
    "    print(\"\\nPages:\\n\")\n",
    "    for page in data[\"pages\"]:\n",
    "        print(f\"{page['id']}: {page['name']}\")\n",
    "\n",
    "# Load and display the data\n",
    "data = load_data(\"data.json\")\n",
    "display_users(data)"
   ]
  },
  {
   "cell_type": "markdown",
   "id": "e3f2b13a",
   "metadata": {},
   "source": [
    "## Clean the data"
   ]
  },
  {
   "cell_type": "code",
   "execution_count": 4,
   "id": "d006ed75",
   "metadata": {},
   "outputs": [
    {
     "name": "stdout",
     "output_type": "stream",
     "text": [
      "Data cleaned successfully!\n"
     ]
    }
   ],
   "source": [
    "import json\n",
    "\n",
    "def clean_data(data):\n",
    "    # Remove users with missing names\n",
    "    data[\"users\"] = [user for user in data[\"users\"] if user[\"name\"].strip()]\n",
    "    \n",
    "    # Remove duplicate friends\n",
    "    for user in data[\"users\"]:\n",
    "        user[\"friends\"] = list(set(user[\"friends\"]))\n",
    "    \n",
    "    # Remove inactive users\n",
    "    data[\"users\"] = [user for user in data[\"users\"] if user[\"friends\"] or user[\"liked_pages\"]]\n",
    "    \n",
    "    # Remove duplicate pages\n",
    "    unique_pages = {}\n",
    "    for page in data[\"pages\"]:\n",
    "        unique_pages[page[\"id\"]] = page\n",
    "    data[\"pages\"] = list(unique_pages.values())\n",
    "    \n",
    "    return data\n",
    "\n",
    "# Load, clean, and display the cleaned data\n",
    "data = json.load(open(\"data.json\"))\n",
    "data = clean_data(data)\n",
    "json.dump(data, open(\"data.json\", \"w\"), indent=4)\n",
    "print(\"Data cleaned successfully!\")"
   ]
  },
  {
   "cell_type": "markdown",
   "id": "9a4915bb",
   "metadata": {},
   "source": [
    "## Implementing the Algorithm"
   ]
  },
  {
   "cell_type": "code",
   "execution_count": 6,
   "id": "76089425",
   "metadata": {},
   "outputs": [
    {
     "name": "stdout",
     "output_type": "stream",
     "text": [
      "People You May Know for User 1: [4]\n"
     ]
    }
   ],
   "source": [
    "import json\n",
    "\n",
    "def load_data(filename):\n",
    "    with open(filename, \"r\") as file:\n",
    "        return json.load(file)\n",
    "\n",
    "def find_people_you_may_know(user_id, data):\n",
    "    user_friends = {}\n",
    "    for user in data[\"users\"]:\n",
    "        user_friends[user[\"id\"]] = set(user[\"friends\"])\n",
    "    \n",
    "    if user_id not in user_friends:\n",
    "        return []\n",
    "    \n",
    "    direct_friends = user_friends[user_id]\n",
    "    suggestions = {}\n",
    "    \n",
    "    for friend in direct_friends:\n",
    "        # For all friends of friend\n",
    "        for mutual in user_friends[friend]:\n",
    "            # If mutual id is not the same user and not already a direct friend of user\n",
    "            if mutual != user_id and mutual not in direct_friends:\n",
    "                # Count mutual friends\n",
    "                suggestions[mutual] = suggestions.get(mutual, 0) + 1\n",
    "    \n",
    "    sorted_suggestions = sorted(suggestions.items(), key=lambda x: x[1], reverse=True)\n",
    "    return [user_id for user_id, _ in sorted_suggestions]\n",
    "\n",
    "# Load data\n",
    "data = load_data(\"data.json\")\n",
    "user_id = 1  # Example: Finding suggestions for Amit\n",
    "recommendations = find_people_you_may_know(user_id, data)\n",
    "print(f\"People You May Know for User {user_id}: {recommendations}\")"
   ]
  },
  {
   "cell_type": "code",
   "execution_count": 8,
   "id": "c1b20903",
   "metadata": {},
   "outputs": [
    {
     "name": "stdout",
     "output_type": "stream",
     "text": [
      "Pages You Might Like for User 1: [103, 102, 104]\n"
     ]
    }
   ],
   "source": [
    "import json\n",
    "\n",
    "# Function to load JSON data from a file\n",
    "def load_data(filename):\n",
    "    with open(filename, \"r\") as file:\n",
    "        return json.load(file)\n",
    "\n",
    "# Function to find pages a user might like based on common interests\n",
    "def find_pages_you_might_like(user_id, data):\n",
    "    # Dictionary to store user interactions with pages\n",
    "    user_pages = {}\n",
    "    for user in data[\"users\"]:\n",
    "        user_pages[user[\"id\"]] = set(user[\"liked_pages\"])\n",
    "    \n",
    "    # If the user is not found, return an empty list\n",
    "    if user_id not in user_pages:\n",
    "        return []\n",
    "    \n",
    "    user_liked_pages = user_pages[user_id]\n",
    "    page_suggestions = {}\n",
    "    \n",
    "    for other_user, pages in user_pages.items():\n",
    "        if other_user != user_id:\n",
    "            shared_pages = user_liked_pages.intersection(pages)\n",
    "            for page in pages:\n",
    "                if page not in user_liked_pages:\n",
    "                    page_suggestions[page] = page_suggestions.get(page, 0) + len(shared_pages)\n",
    "    \n",
    "    # Sort recommended pages based on the number of shared interactions\n",
    "    sorted_pages = sorted(page_suggestions.items(), key=lambda x: x[1], reverse=True)\n",
    "    return [page_id for page_id, _ in sorted_pages]\n",
    "\n",
    "# Load data\n",
    "data = load_data(\"data.json\")\n",
    "user_id = 1  # Example: Finding recommendations for Amit\n",
    "page_recommendations = find_pages_you_might_like(user_id, data)\n",
    "print(f\"Pages You Might Like for User {user_id}: {page_recommendations}\")"
   ]
  }
 ],
 "metadata": {
  "kernelspec": {
   "display_name": "Python 3",
   "language": "python",
   "name": "python3"
  },
  "language_info": {
   "codemirror_mode": {
    "name": "ipython",
    "version": 3
   },
   "file_extension": ".py",
   "mimetype": "text/x-python",
   "name": "python",
   "nbconvert_exporter": "python",
   "pygments_lexer": "ipython3",
   "version": "3.12.11"
  }
 },
 "nbformat": 4,
 "nbformat_minor": 5
}
