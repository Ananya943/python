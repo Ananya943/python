{
 "cells": [
  {
   "cell_type": "markdown",
   "metadata": {},
   "source": [
    "# Display a user entered name entered name followed by Good Afternoon using input() function "
   ]
  },
  {
   "cell_type": "code",
   "execution_count": 1,
   "metadata": {},
   "outputs": [
    {
     "name": "stdout",
     "output_type": "stream",
     "text": [
      "Good Afternoon Ananya \n"
     ]
    }
   ],
   "source": [
    "name= input(\"Enter your name: \")\n",
    "\n",
    "print(f\"Good Afternoon {name} \")"
   ]
  },
  {
   "cell_type": "markdown",
   "metadata": {},
   "source": [
    "# fill in a letter template"
   ]
  },
  {
   "cell_type": "code",
   "execution_count": 9,
   "metadata": {},
   "outputs": [
    {
     "name": "stdout",
     "output_type": "stream",
     "text": [
      " Dear Ananya ,\n",
      "             You are selected!\n",
      "             24 September 2025 \n"
     ]
    }
   ],
   "source": [
    "letter= ''' Dear <|Name|> ,\n",
    "             You are selected!\n",
    "             <|Date|> '''\n",
    "print(letter.replace(\"<|Name|>\", \"Ananya\").replace(\"<|Date|>\",\"24 September 2025\"))"
   ]
  },
  {
   "cell_type": "markdown",
   "metadata": {},
   "source": [
    "# Detect double space"
   ]
  },
  {
   "cell_type": "code",
   "execution_count": 11,
   "metadata": {},
   "outputs": [
    {
     "name": "stdout",
     "output_type": "stream",
     "text": [
      "16\n",
      "Adrika is a good girl and \n"
     ]
    }
   ],
   "source": [
    "name = \"Adrika is a good  girl and  \"\n",
    "print(name.find(\"  \"))\n",
    "print(name.replace(\"  \",\" \"))"
   ]
  },
  {
   "cell_type": "markdown",
   "metadata": {},
   "source": [
    "# Formatting letter"
   ]
  },
  {
   "cell_type": "code",
   "execution_count": 20,
   "metadata": {},
   "outputs": [
    {
     "name": "stdout",
     "output_type": "stream",
     "text": [
      "Dear Ananya,\n",
      "\t Nice working with you.\n",
      "Thanks!\n"
     ]
    }
   ],
   "source": [
    "letter= \"Dear Ananya,\\n\\t Nice working with you.\\nThanks!\"\n",
    "print(letter)"
   ]
  },
  {
   "cell_type": "markdown",
   "metadata": {},
   "source": [
    "# store seven fruits "
   ]
  },
  {
   "cell_type": "code",
   "execution_count": 3,
   "metadata": {},
   "outputs": [
    {
     "name": "stdout",
     "output_type": "stream",
     "text": [
      "['Apple', 'Banana', 'Guava', 'Grape', 'Mango', 'Orange', 'Pinapell']\n"
     ]
    }
   ],
   "source": [
    "fruits= []\n",
    "f1= input(\"Enter the fruit name: \")\n",
    "fruits.append(f1)\n",
    "f2= input(\"Enter the fruit name: \")\n",
    "fruits.append(f2)\n",
    "f3= input(\"Enter the fruit name: \")\n",
    "fruits.append(f3)\n",
    "f4= input(\"Enter the fruit name: \")\n",
    "fruits.append(f4)\n",
    "f5= input(\"Enter the fruit name: \")\n",
    "fruits.append(f5)\n",
    "f6= input(\"Enter the fruit name: \")\n",
    "fruits.append(f6)\n",
    "f7= input(\"Enter the fruit name: \")\n",
    "fruits.append(f7)\n",
    "print(fruits)"
   ]
  },
  {
   "cell_type": "markdown",
   "metadata": {},
   "source": [
    "# Accept marks of 6 students and display them in a sorted manner"
   ]
  },
  {
   "cell_type": "code",
   "execution_count": 3,
   "metadata": {},
   "outputs": [
    {
     "name": "stdout",
     "output_type": "stream",
     "text": [
      "[12, 23, 45, 56, 65, 74, 89]\n"
     ]
    }
   ],
   "source": [
    "marks= []\n",
    "f1= int(input(\"Enter themarks name: \"))\n",
    "marks.append(f1)\n",
    "f2= int(input(\"Enter themarks name: \"))\n",
    "marks.append(f2)\n",
    "f3= int(input(\"Enter themarks name: \"))\n",
    "marks.append(f3)\n",
    "f4= int(input(\"Enter themarks name: \"))\n",
    "marks.append(f4)\n",
    "f5= int(input(\"Enter themarks name: \"))\n",
    "marks.append(f5)\n",
    "f6= int(input(\"Enter themarks name: \"))\n",
    "marks.append(f6)\n",
    "f7= int(input(\"Enter themarks name: \"))\n",
    "marks.append(f7)\n",
    "marks.sort()\n",
    "print(marks)"
   ]
  },
  {
   "cell_type": "code",
   "execution_count": 4,
   "metadata": {},
   "outputs": [
    {
     "ename": "TypeError",
     "evalue": "'tuple' object does not support item assignment",
     "output_type": "error",
     "traceback": [
      "\u001b[0;31m---------------------------------------------------------------------------\u001b[0m",
      "\u001b[0;31mTypeError\u001b[0m                                 Traceback (most recent call last)",
      "Cell \u001b[0;32mIn[4], line 2\u001b[0m\n\u001b[1;32m      1\u001b[0m a\u001b[38;5;241m=\u001b[39m (\u001b[38;5;241m34\u001b[39m, \u001b[38;5;241m845\u001b[39m, \u001b[38;5;124m\"\u001b[39m\u001b[38;5;124mAnanya\u001b[39m\u001b[38;5;124m\"\u001b[39m)\n\u001b[0;32m----> 2\u001b[0m \u001b[43ma\u001b[49m\u001b[43m[\u001b[49m\u001b[38;5;241;43m2\u001b[39;49m\u001b[43m]\u001b[49m\u001b[38;5;241m=\u001b[39m \u001b[38;5;124m\"\u001b[39m\u001b[38;5;124mAnik\u001b[39m\u001b[38;5;124m\"\u001b[39m\n",
      "\u001b[0;31mTypeError\u001b[0m: 'tuple' object does not support item assignment"
     ]
    }
   ],
   "source": [
    "a= (34, 845, \"Ananya\")\n",
    "a[2]= \"Anik\""
   ]
  },
  {
   "cell_type": "code",
   "execution_count": null,
   "metadata": {},
   "outputs": [],
   "source": [
    "l= "
   ]
  }
 ],
 "metadata": {
  "kernelspec": {
   "display_name": "Python 3",
   "language": "python",
   "name": "python3"
  },
  "language_info": {
   "codemirror_mode": {
    "name": "ipython",
    "version": 3
   },
   "file_extension": ".py",
   "mimetype": "text/x-python",
   "name": "python",
   "nbconvert_exporter": "python",
   "pygments_lexer": "ipython3",
   "version": "3.10.13"
  }
 },
 "nbformat": 4,
 "nbformat_minor": 2
}
