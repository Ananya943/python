{
 "cells": [
  {
   "cell_type": "markdown",
   "metadata": {},
   "source": [
    "Average of the grade"
   ]
  },
  {
   "cell_type": "code",
   "execution_count": 3,
   "metadata": {},
   "outputs": [
    {
     "name": "stdout",
     "output_type": "stream",
     "text": [
      "Student Name: Anik Das\n",
      "Physics: 90\n",
      "Chemistry: 56\n",
      "Mathematics: 80\n",
      "Average: 75\n",
      "The grade is= C\n"
     ]
    }
   ],
   "source": [
    "student_name=input(\"Enter the Student Name\")\n",
    "p=int(input(\"Enter physics marks\"))\n",
    "c=int(input(\"Enter the chemistry marks\"))\n",
    "m=int(input(\"Enter the math marks\"))\n",
    "average=(p+c+m)//3\n",
    "print(\"Student Name:\",student_name)\n",
    "print(\"Physics:\",p)\n",
    "print(\"Chemistry:\",c)\n",
    "print(\"Mathematics:\",m)\n",
    "print(\"Average:\",average)\n",
    "if(average>=90 and average<=100):\n",
    "    print(\"The grade is= A\")\n",
    "elif(average>=80 and average<=89):\n",
    "    print(\"The grade is= B\")\n",
    "elif(average>=70 and average<=79):\n",
    "    print(\"The grade is= C\")\n",
    "elif(average>=60 and average<=69):\n",
    "    print(\"The grade is= D\")\n",
    "else:\n",
    "    print(\"The grade is= F\")"
   ]
  }
 ],
 "metadata": {
  "kernelspec": {
   "display_name": "Python 3",
   "language": "python",
   "name": "python3"
  },
  "language_info": {
   "codemirror_mode": {
    "name": "ipython",
    "version": 3
   },
   "file_extension": ".py",
   "mimetype": "text/x-python",
   "name": "python",
   "nbconvert_exporter": "python",
   "pygments_lexer": "ipython3",
   "version": "3.10.13"
  }
 },
 "nbformat": 4,
 "nbformat_minor": 2
}
