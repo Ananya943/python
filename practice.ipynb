{
 "cells": [
  {
   "cell_type": "markdown",
   "metadata": {},
   "source": [
    "# Average of the grade"
   ]
  },
  {
   "cell_type": "code",
   "execution_count": 3,
   "metadata": {},
   "outputs": [
    {
     "name": "stdout",
     "output_type": "stream",
     "text": [
      "Student Name: Anik Das\n",
      "Physics: 90\n",
      "Chemistry: 56\n",
      "Mathematics: 80\n",
      "Average: 75\n",
      "The grade is= C\n"
     ]
    }
   ],
   "source": [
    "student_name=input(\"Enter the Student Name\")\n",
    "p=int(input(\"Enter physics marks\"))\n",
    "c=int(input(\"Enter the chemistry marks\"))\n",
    "m=int(input(\"Enter the math marks\"))\n",
    "average=(p+c+m)//3\n",
    "print(\"Student Name:\",student_name)\n",
    "print(\"Physics:\",p)\n",
    "print(\"Chemistry:\",c)\n",
    "print(\"Mathematics:\",m)\n",
    "print(\"Average:\",average)\n",
    "if(average>=90 and average<=100):\n",
    "    print(\"The grade is= A\")\n",
    "elif(average>=80 and average<=89):\n",
    "    print(\"The grade is= B\")\n",
    "elif(average>=70 and average<=79):\n",
    "    print(\"The grade is= C\")\n",
    "elif(average>=60 and average<=69):\n",
    "    print(\"The grade is= D\")\n",
    "else:\n",
    "    print(\"The grade is= F\")"
   ]
  },
  {
   "cell_type": "markdown",
   "metadata": {},
   "source": [
    "# wap that propmpt the user to input a number program should display the crosponding days to the number"
   ]
  },
  {
   "cell_type": "code",
   "execution_count": 1,
   "metadata": {},
   "outputs": [
    {
     "name": "stdout",
     "output_type": "stream",
     "text": [
      "Saturday\n"
     ]
    }
   ],
   "source": [
    "def get_day_of_week(number):\n",
    "    if number == 1:\n",
    "        return \"Monday\"\n",
    "    elif number == 2:\n",
    "        return \"Tuesday\"\n",
    "    elif number == 3:\n",
    "        return \"Wednesday\"\n",
    "    elif number == 4:\n",
    "        return \"Thursday\"\n",
    "    elif number == 5:\n",
    "        return \"Friday\"\n",
    "    elif number == 6:\n",
    "        return \"Saturday\"\n",
    "    elif number == 7:\n",
    "        return \"Sunday\"\n",
    "    else:\n",
    "        return \"Invalid number. Please enter a number between 1 and 7.\"\n",
    "\n",
    "try:\n",
    "    number = int(input(\"Enter a number (1-7): \"))\n",
    "    day = get_day_of_week(number)\n",
    "    print(day)\n",
    "except ValueError:\n",
    "    print(\"Invalid input. Please enter a valid number.\")"
   ]
  },
  {
   "cell_type": "code",
   "execution_count": 3,
   "metadata": {},
   "outputs": [
    {
     "name": "stdout",
     "output_type": "stream",
     "text": [
      "a is a vowel.\n"
     ]
    }
   ],
   "source": [
    "char = input(\"Enter a character: \")\n",
    "\n",
    "if len(char) == 1 and char.isalpha():\n",
    "    if char in 'aeiouAEIOU':\n",
    "        print(f\"{char} is a vowel.\")\n",
    "    else:\n",
    "        print(f\"{char} is a consonant.\")\n",
    "else:\n",
    "    print(\"Invalid input. Please enter a single alphabetic character.\")"
   ]
  },
  {
   "cell_type": "markdown",
   "metadata": {},
   "source": [
    "# wap  Armstrong number if a number is armstrong number or not"
   ]
  },
  {
   "cell_type": "code",
   "execution_count": 4,
   "metadata": {},
   "outputs": [
    {
     "name": "stdout",
     "output_type": "stream",
     "text": [
      "89 is not an Armstrong number.\n"
     ]
    }
   ],
   "source": [
    "number = input(\"Enter a number: \")\n",
    "\n",
    "if number.isdigit():\n",
    "    number = int(number)\n",
    "    num_str = str(number)\n",
    "    num_digits = len(num_str)\n",
    "    sum_of_powers = sum(int(digit) ** num_digits for digit in num_str)\n",
    "    \n",
    "    if number == sum_of_powers:\n",
    "        print(f\"{number} is an Armstrong number.\")\n",
    "    else:\n",
    "        print(f\"{number} is not an Armstrong number.\")\n",
    "else:\n",
    "    print(\"Invalid input. Please enter a valid number.\")\n"
   ]
  },
  {
   "cell_type": "markdown",
   "metadata": {},
   "source": [
    "# wap to display the fibbonacci series"
   ]
  },
  {
   "cell_type": "code",
   "execution_count": 5,
   "metadata": {},
   "outputs": [
    {
     "name": "stdout",
     "output_type": "stream",
     "text": [
      "Fibonacci series:\n",
      "0 1 1 2 3 5 8 13 21 34 55 89 144 233 377 610 987 1597 2584 4181 6765 10946 17711 28657 46368 75025 121393 196418 317811 514229 832040 1346269 2178309 3524578 5702887 9227465 14930352 24157817 39088169 63245986 102334155 165580141 267914296 433494437 701408733 1134903170 1836311903 2971215073 4807526976 7778742049 12586269025 20365011074 32951280099 53316291173 86267571272 139583862445 "
     ]
    }
   ],
   "source": [
    "n_terms = int(input(\"Enter the number of terms in the Fibonacci series: \"))\n",
    "\n",
    "# Initialize the first two terms\n",
    "a, b = 0, 1\n",
    "count = 0\n",
    "\n",
    "if n_terms <= 0:\n",
    "    print(\"Please enter a positive integer.\")\n",
    "elif n_terms == 1:\n",
    "    print(f\"Fibonacci series up to {n_terms} term: {a}\")\n",
    "else:\n",
    "    print(\"Fibonacci series:\")\n",
    "    while count < n_terms:\n",
    "        print(a, end=\" \")\n",
    "        nth = a + b\n",
    "        # Update values\n",
    "        a = b\n",
    "        b = nth\n",
    "        count += 1"
   ]
  },
  {
   "cell_type": "markdown",
   "metadata": {},
   "source": [
    "# wap to print the reverse of  number "
   ]
  },
  {
   "cell_type": "code",
   "execution_count": 6,
   "metadata": {},
   "outputs": [
    {
     "name": "stdout",
     "output_type": "stream",
     "text": [
      "The reverse of 45 is 54.\n"
     ]
    }
   ],
   "source": [
    "number = input(\"Enter a number: \")\n",
    "\n",
    "if number.isdigit():\n",
    "    reversed_number = number[::-1]\n",
    "    print(f\"The reverse of {number} is {reversed_number}.\")\n",
    "else:\n",
    "    print(\"Invalid input. Please enter a valid number.\")"
   ]
  },
  {
   "cell_type": "markdown",
   "metadata": {},
   "source": [
    "# wap to check whether the given number is prime or not"
   ]
  },
  {
   "cell_type": "code",
   "execution_count": 7,
   "metadata": {},
   "outputs": [
    {
     "name": "stdout",
     "output_type": "stream",
     "text": [
      "89 is a prime number.\n"
     ]
    }
   ],
   "source": [
    "number = input(\"Enter a number: \")\n",
    "\n",
    "if number.isdigit():\n",
    "    number = int(number)\n",
    "    if number > 1:\n",
    "        for i in range(2, int(number**0.5) + 1):\n",
    "            if number % i == 0:\n",
    "                print(f\"{number} is not a prime number.\")\n",
    "                break\n",
    "        else:\n",
    "            print(f\"{number} is a prime number.\")\n",
    "    else:\n",
    "        print(f\"{number} is not a prime number.\")\n",
    "else:\n",
    "    print(\"Invalid input. Please enter a valid number.\")\n"
   ]
  }
 ],
 "metadata": {
  "kernelspec": {
   "display_name": "Python 3",
   "language": "python",
   "name": "python3"
  },
  "language_info": {
   "codemirror_mode": {
    "name": "ipython",
    "version": 3
   },
   "file_extension": ".py",
   "mimetype": "text/x-python",
   "name": "python",
   "nbconvert_exporter": "python",
   "pygments_lexer": "ipython3",
   "version": "3.10.13"
  }
 },
 "nbformat": 4,
 "nbformat_minor": 2
}
